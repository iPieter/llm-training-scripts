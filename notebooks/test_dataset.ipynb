{
 "cells": [
  {
   "cell_type": "code",
   "execution_count": 1,
   "metadata": {},
   "outputs": [
    {
     "name": "stderr",
     "output_type": "stream",
     "text": [
      "/cw/dtaijupiter/NoCsBack/dtai/pieterd/projects/llm-training/.env/lib/python3.10/site-packages/tqdm/auto.py:21: TqdmWarning: IProgress not found. Please update jupyter and ipywidgets. See https://ipywidgets.readthedocs.io/en/stable/user_install.html\n",
      "  from .autonotebook import tqdm as notebook_tqdm\n"
     ]
    }
   ],
   "source": [
    "import datasets\n",
    "import glob\n",
    "import random"
   ]
  },
  {
   "cell_type": "code",
   "execution_count": 2,
   "metadata": {},
   "outputs": [],
   "source": [
    "def add_jsonlines_dir(path):\n",
    "    data_files = glob.glob(path)\n",
    "    print(f\"Number of files {len(data_files)} after adding {path}\")\n",
    "    return data_files"
   ]
  },
  {
   "cell_type": "code",
   "execution_count": 3,
   "metadata": {},
   "outputs": [
    {
     "name": "stdout",
     "output_type": "stream",
     "text": [
      "Number of files 4 after adding ../export/enwiki_*_validation.jsonl.gz\n"
     ]
    }
   ],
   "source": [
    "validation = add_jsonlines_dir(f\"../export/enwiki_*_validation.jsonl.gz\")"
   ]
  },
  {
   "cell_type": "code",
   "execution_count": 4,
   "metadata": {},
   "outputs": [
    {
     "name": "stdout",
     "output_type": "stream",
     "text": [
      "Number of files 3497 after adding ../export/enwiki_*_train.jsonl.gz\n"
     ]
    }
   ],
   "source": [
    "train = add_jsonlines_dir(f\"../export/enwiki_*_train.jsonl.gz\")"
   ]
  },
  {
   "cell_type": "code",
   "execution_count": 6,
   "metadata": {},
   "outputs": [],
   "source": [
    "dataset = datasets.load_dataset('json', data_files={'train': train, 'validation': validation}, cache_dir='/cw/dtaijupiter/NoCsBack/dtai/pieterd/hf_cache', streaming=True) "
   ]
  },
  {
   "cell_type": "code",
   "execution_count": 7,
   "metadata": {},
   "outputs": [],
   "source": [
    "dataset_iterator = iter(dataset['validation']) "
   ]
  },
  {
   "cell_type": "code",
   "execution_count": 8,
   "metadata": {},
   "outputs": [],
   "source": [
    "validation_articles = {t['title'] for t in dataset_iterator}"
   ]
  },
  {
   "cell_type": "code",
   "execution_count": 9,
   "metadata": {},
   "outputs": [
    {
     "data": {
      "text/plain": [
       "30840"
      ]
     },
     "execution_count": 9,
     "metadata": {},
     "output_type": "execute_result"
    }
   ],
   "source": [
    "len(validation_articles)"
   ]
  },
  {
   "cell_type": "code",
   "execution_count": 36,
   "metadata": {},
   "outputs": [],
   "source": [
    "with open('validation_articles.txt', 'w') as f:\n",
    "    for item in validation_articles:\n",
    "        f.write(\"%s\\n\" % item)"
   ]
  },
  {
   "cell_type": "code",
   "execution_count": 10,
   "metadata": {},
   "outputs": [
    {
     "ename": "AttributeError",
     "evalue": "'IterableDatasetDict' object has no attribute 'push_to_hub'",
     "output_type": "error",
     "traceback": [
      "\u001b[0;31m---------------------------------------------------------------------------\u001b[0m",
      "\u001b[0;31mAttributeError\u001b[0m                            Traceback (most recent call last)",
      "Cell \u001b[0;32mIn[10], line 1\u001b[0m\n\u001b[0;32m----> 1\u001b[0m \u001b[43mdataset\u001b[49m\u001b[38;5;241;43m.\u001b[39;49m\u001b[43mpush_to_hub\u001b[49m(\u001b[38;5;124m'\u001b[39m\u001b[38;5;124mpdelobelle/enwiki-yearly-cleaned\u001b[39m\u001b[38;5;124m'\u001b[39m, use_temp_dir\u001b[38;5;241m=\u001b[39m\u001b[38;5;28;01mTrue\u001b[39;00m, private\u001b[38;5;241m=\u001b[39m\u001b[38;5;28;01mTrue\u001b[39;00m)\n",
      "\u001b[0;31mAttributeError\u001b[0m: 'IterableDatasetDict' object has no attribute 'push_to_hub'"
     ]
    }
   ],
   "source": [
    "dataset.push_to_hub('pdelobelle/enwiki-yearly-cleaned', private=True)"
   ]
  },
  {
   "cell_type": "code",
   "execution_count": 6,
   "metadata": {},
   "outputs": [
    {
     "name": "stderr",
     "output_type": "stream",
     "text": [
      "/cw/dtaijupiter/NoCsBack/dtai/pieterd/projects/llm-training/.env/lib/python3.10/site-packages/datasets/load.py:1454: FutureWarning: The repository for pdelobelle/enwiki-yearly-cleaned contains custom code which must be executed to correctly load the dataset. You can inspect the repository content at https://hf.co/datasets/pdelobelle/enwiki-yearly-cleaned\n",
      "You can avoid this message in future by passing the argument `trust_remote_code=True`.\n",
      "Passing `trust_remote_code=True` will be mandatory to load this dataset from the next major release of `datasets`.\n",
      "  warnings.warn(\n"
     ]
    }
   ],
   "source": [
    "import datasets\n",
    "dataset = datasets.load_dataset('pdelobelle/enwiki-yearly-cleaned', 'full', streaming=True)\n",
    "iterable_dataset = dataset['train']\n",
    "shuffled_iterable_dataset = iter(iterable_dataset.shuffle(seed=42, buffer_size=1000))\n",
    "\n",
    "next(shuffled_iterable_dataset)"
   ]
  },
  {
   "cell_type": "code",
   "execution_count": 22,
   "metadata": {},
   "outputs": [],
   "source": [
    "it = iter(dataset['validation'])"
   ]
  },
  {
   "cell_type": "code",
   "execution_count": 12,
   "metadata": {},
   "outputs": [
    {
     "data": {
      "text/plain": [
       "{'id': '22035256',\n",
       " 'text': 'Martin Welz is a South African journalist and the editor of Noseweek magazine. He is best known for his investigative work on controversial issues including government and corporate corruption.\\n\\n== Early life ==\\nMartin Sylvester Welz was born on 19 October 1945 in Worcester, Western Cape, South Africa. Fourth son of artist Jean Welz, born Salzburg, Austria 1900, and Inger Marie Welz, née Christensen, born in Odense, Denmark 1908.\\n\\n== Career == \\n\\n === Sunday Times ===\\nA report by Welz while he was working for the Sunday Times from 1977–1981 saw a R180-million defamation claim instituted against himself and the paper by Lebanese businessman Salim el Hajj. El Hajj had been accused by Welz of a series of frauds in the then black \"homelands\". El Hajj fled the country before the case got to court. Welz also worked on South Africa\\'s \"Muldergate\" Information scandal, and helped expose wrongdoing by apartheid-era cabinet ministers, inter alia revealing that both Minister of Manpower and Energy Fanie Botha and State President Nico Diederichs were secretly bankrupt while in office. In 1981–82, Welz was appointed Parliamentary correspondent for Sunday Express, Johannesburg. While at the Express, he won the Stellenbosch farmers\\' Winery Award (1983) for a series exposing the corrupt pharmaceutical empire established by businessmen Isaac Kay and David Tabatznik.Welz, subsequently, when heading Rapport\\'s new investigations department, exposed a network of conmen dubbed the \"boere mafia\" and Adriaan Niewoudt\\'s Kubus milk culture pyramid scheme, later also exposed as the biggest US postal fraud in history. (Federal Court, Topeka, Kansas, 1986.) He was later appointed as a consultant to the United States Department of Justice and helped expose brothers Frans and Gert Theron as the Kubus masterminds in the US. \\n\\n=== Noseweek ===\\nNoseweek was founded in Cape Town, South Africa, in June 1993.  It contains a minimal amount of advertising and has survived and grown mainly on its sales.\\n\\n== Lawsuits == \\n\\n === Dr Robert Milton Hall ===\\nThe first lawsuit again the magazine was brought in 1994 by an American tax refugee and millionaire dentist living in Stellenbosch, Western Cape, called Dr Robert Milton Hall.  The trial was in 1996 in the Cape High Court before Judge Johann Conradie.  Noseweek had, inter alia, pointed out Dr Hall\\'s fraudulent claims to be the \"inventor of modern-day dentistry\", and his ongoing foreign exchange and tax contraventions.\\nThe magazine was represented by an attorney and advocates and Welz represented himself.  Noseweek and Welz won the case.  Judge Johann Conradie presided and in his judgment found that Dr Hall, \"... sued not to salvage his reputation but to sustain a colossal fraud.\"  This litigation put the magazine on ice for approximately two years and nearly bankrupted it. It was relaunched thanks to the voluntary contributions of scores of its loyal readers.\\n\\n=== FirstRand Bank ===\\nIn 2007 Welz represented himself in a court action brought by the FirstRand group to prevent Noseweek from publishing a list of FirstRand clients allegedly involved in a dubious offshore investment scheme. The action was dismissed with costs.\\n\\n=== Inge Peacock ===\\nCape Town businesswoman, Inge Peacock, sued Noseweek and Martin Welz in March 2012. Judge Andre Le Grange of the Cape High Court dismissed Peacock\\'s case with costs, but stated that the plaintiff may pursue damages for defamation against Noseweek.  The resulting publicity created a \"Streisand effect\", after the mainstream press picked up the story.\\n\\n==== Weapons whistleblower ====\\nIn 2008 Welz reported that a ship due to dock in Durban harbour carried a shipment of Chinese weapons bound for Zimbabwe.\\nNews of the $1.245 million, 77-ton shipment came via what Welz described as \"a whistle blower of conscience,\" who supplied Noseweek with a commercial invoice, bill of lading and packing list for the shipment.\\n\\n== Awards ==\\n* South African Union of Journalists Thomas Pringle Award for Press Freedom.\\n* Special mention, 2002 Nat Nakasa Award for Media Integrity & Courageous Journalism.\\n* Joint business category winner, 2004 Mondi Paper Magazine Awards.\\n* Honorary award for promoting corporate governance through investigative journalism, 2007 Sanlam Financial Journalist of the Year competition.\\n',\n",
       " 'year': '2020',\n",
       " 'tlsh': 'T12691A437979613770F4243D23B5E32E37B154A6D5251CA52A04C863D2349CBA8BBA7D4',\n",
       " 'title': 'Martin Welz'}"
      ]
     },
     "execution_count": 12,
     "metadata": {},
     "output_type": "execute_result"
    }
   ],
   "source": []
  }
 ],
 "metadata": {
  "kernelspec": {
   "display_name": ".env",
   "language": "python",
   "name": "python3"
  },
  "language_info": {
   "codemirror_mode": {
    "name": "ipython",
    "version": 3
   },
   "file_extension": ".py",
   "mimetype": "text/x-python",
   "name": "python",
   "nbconvert_exporter": "python",
   "pygments_lexer": "ipython3",
   "version": "3.10.4"
  }
 },
 "nbformat": 4,
 "nbformat_minor": 2
}
