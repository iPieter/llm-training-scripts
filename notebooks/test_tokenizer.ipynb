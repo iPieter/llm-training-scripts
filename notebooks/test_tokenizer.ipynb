{
 "cells": [
  {
   "cell_type": "code",
   "execution_count": 1,
   "metadata": {},
   "outputs": [
    {
     "name": "stderr",
     "output_type": "stream",
     "text": [
      "/cw/dtaijupiter/NoCsBack/dtai/pieterd/projects/llm-training/.env/lib/python3.10/site-packages/tqdm/auto.py:21: TqdmWarning: IProgress not found. Please update jupyter and ipywidgets. See https://ipywidgets.readthedocs.io/en/stable/user_install.html\n",
      "  from .autonotebook import tqdm as notebook_tqdm\n",
      "/cw/dtaijupiter/NoCsBack/dtai/pieterd/projects/llm-training/.env/lib/python3.10/site-packages/transformers/utils/hub.py:124: FutureWarning: Using `TRANSFORMERS_CACHE` is deprecated and will be removed in v5 of Transformers. Use `HF_HOME` instead.\n",
      "  warnings.warn(\n"
     ]
    }
   ],
   "source": [
    "from tokenizers import AddedToken\n",
    "from transformers import AutoTokenizer"
   ]
  },
  {
   "cell_type": "code",
   "execution_count": 2,
   "metadata": {},
   "outputs": [],
   "source": [
    "def extend_tokenizer(tokenizer):\n",
    "    # add special tokens for the years\n",
    "    tokens = [\n",
    "        AddedToken(f\"<s_{year}>\", single_word=True, lstrip=True, rstrip=True)\n",
    "        for year in [\"2014\", \"2016\", \"2018\", \"2020\", \"2022\", \"2024\"]\n",
    "    ]\n",
    "    tokenizer.add_tokens(tokens, special_tokens=True)\n",
    "\n",
    "    print(\"Added the following tokens:\")\n",
    "    print(tokens)\n",
    "    return tokenizer"
   ]
  },
  {
   "cell_type": "code",
   "execution_count": 4,
   "metadata": {},
   "outputs": [
    {
     "name": "stdout",
     "output_type": "stream",
     "text": [
      "Added the following tokens:\n",
      "[AddedToken(\"<s_2014>\", rstrip=True, lstrip=True, single_word=True, normalized=True, special=True), AddedToken(\"<s_2016>\", rstrip=True, lstrip=True, single_word=True, normalized=True, special=True), AddedToken(\"<s_2018>\", rstrip=True, lstrip=True, single_word=True, normalized=True, special=True), AddedToken(\"<s_2020>\", rstrip=True, lstrip=True, single_word=True, normalized=True, special=True), AddedToken(\"<s_2022>\", rstrip=True, lstrip=True, single_word=True, normalized=True, special=True), AddedToken(\"<s_2024>\", rstrip=True, lstrip=True, single_word=True, normalized=True, special=True)]\n"
     ]
    }
   ],
   "source": [
    "tokenizer = AutoTokenizer.from_pretrained(\"mistralai/Mistral-7B-v0.1\", use_fast=False)\n",
    "tokenizer = extend_tokenizer(tokenizer)"
   ]
  },
  {
   "cell_type": "code",
   "execution_count": 15,
   "metadata": {},
   "outputs": [
    {
     "data": {
      "text/plain": [
       "32000"
      ]
     },
     "execution_count": 15,
     "metadata": {},
     "output_type": "execute_result"
    }
   ],
   "source": [
    "tokenizer.get_vocab()['<s_2014>']"
   ]
  },
  {
   "cell_type": "code",
   "execution_count": 17,
   "metadata": {},
   "outputs": [
    {
     "data": {
      "text/plain": [
       "{'2014': 32000,\n",
       " '2016': 32001,\n",
       " '2018': 32002,\n",
       " '2020': 32003,\n",
       " '2022': 32004,\n",
       " '2024': 32005}"
      ]
     },
     "execution_count": 17,
     "metadata": {},
     "output_type": "execute_result"
    }
   ],
   "source": [
    "tokens = {y : tokenizer.get_vocab()[f'<s_{y}>'] for y in [\"2014\", \"2016\", \"2018\", \"2020\", \"2022\", \"2024\"]}\n",
    "tokens"
   ]
  }
 ],
 "metadata": {
  "kernelspec": {
   "display_name": ".env",
   "language": "python",
   "name": "python3"
  },
  "language_info": {
   "codemirror_mode": {
    "name": "ipython",
    "version": 3
   },
   "file_extension": ".py",
   "mimetype": "text/x-python",
   "name": "python",
   "nbconvert_exporter": "python",
   "pygments_lexer": "ipython3",
   "version": "3.10.4"
  }
 },
 "nbformat": 4,
 "nbformat_minor": 2
}
